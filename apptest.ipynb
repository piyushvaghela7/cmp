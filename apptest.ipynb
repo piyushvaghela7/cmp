{
 "metadata": {
  "language_info": {
   "codemirror_mode": {
    "name": "ipython",
    "version": 3
   },
   "file_extension": ".py",
   "mimetype": "text/x-python",
   "name": "python",
   "nbconvert_exporter": "python",
   "pygments_lexer": "ipython3",
   "version": "3.9.0"
  },
  "orig_nbformat": 2,
  "kernelspec": {
   "name": "python390jvsc74a57bd0fb4107452182f5034f3287f4eaacd3103fae6eb8efb528c86f59bfe16558c6ed",
   "display_name": "Python 3.9.0  ('miproject': venv)",
   "language": "python"
  }
 },
 "nbformat": 4,
 "nbformat_minor": 2,
 "cells": [
  {
   "cell_type": "code",
   "execution_count": 2,
   "metadata": {},
   "outputs": [],
   "source": [
    "import pandas as pd\n",
    "import zipfile\n"
   ]
  },
  {
   "cell_type": "code",
   "execution_count": 3,
   "metadata": {},
   "outputs": [],
   "source": [
    "df = pd.DataFrame()"
   ]
  },
  {
   "cell_type": "code",
   "execution_count": 4,
   "metadata": {},
   "outputs": [
    {
     "output_type": "stream",
     "name": "stdout",
     "text": [
      "Empty DataFrame\nColumns: []\nIndex: []\n"
     ]
    }
   ],
   "source": [
    "print(df)"
   ]
  },
  {
   "cell_type": "code",
   "execution_count": 22,
   "metadata": {},
   "outputs": [],
   "source": [
    "zip_file_name = \"E:\\Programming Languages\\Projects\\Mini Project\\excel-file-merge-app-main\\data\\\\nba_data.zip\""
   ]
  },
  {
   "cell_type": "code",
   "execution_count": 63,
   "metadata": {},
   "outputs": [],
   "source": [
    "def excel_file_merge(zip_file_name):\n",
    "    df = pd.DataFrame()\n",
    "    archive = zipfile.ZipFile(zip_file_name, 'r')\n",
    "    with zipfile.ZipFile(zip_file_name, \"r\") as f:\n",
    "        print(type(archive))\n",
    "        for file in sorted(f.namelist()):\n",
    "            xlfile = archive.open(file)\n",
    "            if file.endswith('.xlsx'):\n",
    "                # Add a note indicating the file name that this dataframe originates from\n",
    "                df_xl = pd.read_excel(xlfile, engine='openpyxl')\n",
    "                df_xl['Note'] = file\n",
    "                # Appends content of each Excel file iteratively\n",
    "                df = df.append(df_xl, ignore_index=True)\n",
    "        return df"
   ]
  },
  {
   "cell_type": "code",
   "execution_count": 64,
   "metadata": {},
   "outputs": [
    {
     "output_type": "stream",
     "name": "stdout",
     "text": [
      "<class 'zipfile.ZipFile'>\n",
      "nba_1950.xlsx\n",
      "nba_1951.xlsx\n",
      "nba_1952.xlsx\n"
     ]
    }
   ],
   "source": [
    "df = excel_file_merge(\"E:\\Programming Languages\\Projects\\Mini Project\\excel-file-merge-app-main\\data\\data.zip\")"
   ]
  },
  {
   "cell_type": "code",
   "execution_count": 56,
   "metadata": {},
   "outputs": [
    {
     "output_type": "stream",
     "name": "stdout",
     "text": [
      "                Player  Pos  Age   Tm   G  GS    MP   FG  FGA    FG%  ...  \\\n0      Curly Armstrong  G-F   31  FTW  63   0   0.0  2.3  8.2  0.279  ...   \n1         Cliff Barker   SG   29  INO  49   0   0.0  2.1  5.6  0.372  ...   \n2        Leo Barnhorst   SF   25  CHS  67   0   0.0  2.6  7.4  0.349  ...   \n3           Ed Bartels    F   24  TOT  15   0   0.0  1.5  5.7  0.256  ...   \n4           Ed Bartels    F   24  DNN  13   0   0.0  1.6  6.3  0.256  ...   \n...                ...  ...  ...  ...  ..  ..   ...  ...  ...    ...  ...   \n26066     Tyler Zeller    C   29  MEM   4   1  20.5  4.0  7.0  0.571  ...   \n26067       Ante Žižić    C   22  CLE  59  25  18.3  3.1  5.6  0.553  ...   \n26068      Ivica Zubac    C   21  TOT  59  37  17.6  3.6  6.4  0.559  ...   \n26069      Ivica Zubac    C   21  LAL  33  12  15.6  3.4  5.8  0.580  ...   \n26070      Ivica Zubac    C   21  LAC  26  25  20.2  3.8  7.2  0.538  ...   \n\n       ORB  DRB  TRB  AST  STL  BLK  TOV   PF   PTS           Note  \n0      0.0  0.0  0.0  2.8  0.0  0.0  0.0  3.4   7.3  nba_1950.xlsx  \n1      0.0  0.0  0.0  2.2  0.0  0.0  0.0  2.0   5.7  nba_1950.xlsx  \n2      0.0  0.0  0.0  2.1  0.0  0.0  0.0  2.9   6.5  nba_1950.xlsx  \n3      0.0  0.0  0.0  1.3  0.0  0.0  0.0  1.9   4.2  nba_1950.xlsx  \n4      0.0  0.0  0.0  1.5  0.0  0.0  0.0  2.1   4.5  nba_1950.xlsx  \n...    ...  ...  ...  ...  ...  ...  ...  ...   ...            ...  \n26066  2.3  2.3  4.5  0.8  0.3  0.8  1.0  4.0  11.5  nba_2019.xlsx  \n26067  1.8  3.6  5.4  0.9  0.2  0.4  1.0  1.9   7.8  nba_2019.xlsx  \n26068  1.9  4.2  6.1  1.1  0.2  0.9  1.2  2.3   8.9  nba_2019.xlsx  \n26069  1.6  3.3  4.9  0.8  0.1  0.8  1.0  2.2   8.5  nba_2019.xlsx  \n26070  2.3  5.3  7.7  1.5  0.4  0.9  1.4  2.5   9.4  nba_2019.xlsx  \n\n[26071 rows x 30 columns]\n"
     ]
    }
   ],
   "source": [
    "print(df)"
   ]
  },
  {
   "cell_type": "code",
   "execution_count": 26,
   "metadata": {},
   "outputs": [],
   "source": []
  },
  {
   "cell_type": "code",
   "execution_count": 28,
   "metadata": {},
   "outputs": [
    {
     "output_type": "stream",
     "name": "stdout",
     "text": [
      "Empty DataFrame\nColumns: []\nIndex: []\n"
     ]
    }
   ],
   "source": [
    "print(df1)"
   ]
  },
  {
   "cell_type": "code",
   "execution_count": 38,
   "metadata": {},
   "outputs": [],
   "source": [
    "a = [1,2,3]"
   ]
  },
  {
   "cell_type": "code",
   "execution_count": 39,
   "metadata": {},
   "outputs": [
    {
     "output_type": "execute_result",
     "data": {
      "text/plain": [
       "list"
      ]
     },
     "metadata": {},
     "execution_count": 39
    }
   ],
   "source": [
    "type(a)"
   ]
  },
  {
   "cell_type": "code",
   "execution_count": null,
   "metadata": {},
   "outputs": [],
   "source": []
  }
 ]
}